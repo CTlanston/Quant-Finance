{
  "cells": [
    {
      "cell_type": "markdown",
      "metadata": {},
      "source": [
        "# Assignment 1 Lanston Chen\n",
        "\n",
        "## Task 1: Adding Features to Improve Prediction Model\n",
        "---\n"
      ]
    },
    {
      "cell_type": "code",
      "execution_count": 33,
      "metadata": {},
      "outputs": [],
      "source": [
        "# Import necessary libraries\n",
        "import numpy as np\n",
        "import pandas as pd\n",
        "from sklearn import metrics\n",
        "import matplotlib.pyplot as plt\n",
        "import seaborn as sns\n",
        "from sklearn.linear_model import LogisticRegression\n",
        "\n",
        "in_dir = r\"C:\\Users\\ctlan\\OneDrive\\desktop\\FIN\\dataset\\bankruptcy\"\n",
        "bankruptcy_data = pd.read_excel(in_dir + r\"\\failure_Florida_short.xlsx\")           # Bankruptcy Data\n",
        "bankruptcy_data['Date'] = pd.to_datetime(bankruptcy_data.Date10kBefore)\n",
        "len(bankruptcy_data)\n",
        "\n",
        "#adjust CPI relative to 1980 CPI \n",
        "inflation_data = pd.read_csv(in_dir + r\"\\CPI.csv\")                                  # CPI data\n",
        "inflation_data['Date'] = pd.to_datetime(inflation_data['DATE'])\n",
        "inflation_data['seq'] = 12 * inflation_data['Date'].dt.year + inflation_data['Date'].dt.month\n",
        "cpi_1980 = inflation_data.loc[inflation_data.Date == '1980-01-01', 'CPIAUCSL'].values\n",
        "inflation_data['CPI'] = inflation_data['CPIAUCSL']/cpi_1980                               #Inflation factor CPI as of 1980-01 = 1\n",
        "inflation = inflation_data[['CPI', 'seq']].copy()                                    #Keep only the necessary columns\n",
        "\n",
        "#Process Compustat data \n",
        "Cstat_data = pd.read_csv( in_dir + r\"\\Cstat_data.csv\")\n",
        "Cstat_data = Cstat_data[Cstat_data.indfmt == 'INDL'].copy()                       # filters out firms with 10K data coded not coded as indfmt = 'INDL'  eg. indfmt = 'FS' or financials\n",
        "Cstat_data['Date'] = pd.to_datetime(Cstat_data.datadate)\n",
        "Cstat_data['seq'] = 12 * Cstat_data['Date'].dt.year + Cstat_data['Date'].dt.month\n",
        "Cstat_data = Cstat_data.merge(inflation, how = 'left', on  = [ 'seq'])          #merge with inflation data to compute asset values in 1980 dollars\n",
        "Cstat_data['at_plus'] = np.where(Cstat_data['at'] > 0 , Cstat_data['at'], np.nan) # set negative values to np.nan before converting to logs later\n",
        "Cstat_data['inf_adj_at'] = Cstat_data['at_plus']/Cstat_data.CPI                   #Express asset values in 1980 dollars (why)\n",
        "Cstat_data['market_cap'] = Cstat_data.csho * Cstat_data.prcc_f                    #Market capitalization as of fiscal year end\n",
        "Cstat_data['market_cap'] = Cstat_data['market_cap'].apply(lambda x: 0.5 if x < 0.5 else x) #setting market cap to a min value of .5 - otherwise b2m becomes too large\n",
        "\n",
        "# Drop rows where any of the specified columns have NaN values\n",
        "Cstat_data = Cstat_data.dropna(subset=[\"act\", \"at\", \"che\", \"csho\", \"dlc\", \"dltt\", \"lct\", \"ni\"])\n"
      ]
    },
    {
      "cell_type": "markdown",
      "metadata": {},
      "source": [
        "### 1.1 Suggested Features\n",
        "*   onacf:  operating activities net cash flow\n",
        "*   at:     total assets\n",
        "*   che:    cash or cash equivalents\n",
        "---\n",
        "*Features*\n",
        "\n",
        "1. **Debt to Equity Ratio (DER)**:\n",
        "   - **Feature**: `Debt to Equity Ratio = (dlc + dltt) / (at - lct + small_value)`\n",
        "   - **Intuition**: The DER measures the company's financial leverage by comparing its total debt to its net assets. It evaluates how much of the company's capital structure is financed by debt versus equity. A higher DER indicates that a company has taken on more debt relative to its assets, which can signify greater risk of financial distress if the company struggles to meet its debt obligations. However, it also reflects the company's ability to leverage debt for growth.\n",
        "   - **Expected Sign**: The expected sign for the relationship between the DER and the probability of default is `positive`. A higher DER suggests increased reliance on debt financing, which may elevate the company's risk of financial instability and bankruptcy, especially if it faces challenges in generating sufficient cash flow to cover its debt payments.\n",
        "\n",
        "2. **Return on Assets (ROA)**:\n",
        "   - **Feature**: `Return on Assets = ni / (at + small_value)`\n",
        "   - **Intuition**: This ratio measures the efficiency of the company in generating profit from its total assets. It provides insights into how effectively the management is using the company's assets to produce earnings. A higher ROA indicates that the company is more efficient at converting its investments into net income, suggesting better operational performance and financial health.\n",
        "   - **Expected Sign**: The relationship between the ROA and the probability of default is likely `negative`. A higher ROA reflects a company's strong ability to generate earnings from its assets, which can reduce the likelihood of financial distress and bankruptcy. It indicates that the company is effectively utilizing its assets to maintain profitability, thereby lowering the risk of default.\n",
        "\n"
      ]
    },
    {
      "cell_type": "code",
      "execution_count": 34,
      "metadata": {},
      "outputs": [],
      "source": [
        "#create the metrics\n",
        "Cstat_data['log_asset_size'] =  np.log(Cstat_data['inf_adj_at'])\n",
        "Cstat_data['Total_liabilities'] = Cstat_data['lct'] + Cstat_data['dltt']\n",
        "Cstat_data['TLTA'] =  Cstat_data['Total_liabilities'] / Cstat_data['at_plus']\n",
        "Cstat_data['WCTA'] =  (Cstat_data['act']  - Cstat_data['lct']) / Cstat_data['at_plus']\n",
        "Cstat_data['CLCA'] = np.where(Cstat_data['act'] > 0.0011 , (Cstat_data['lct'] + Cstat_data['dltt'])/ Cstat_data['act'], np.nan)\n",
        "Cstat_data['OENEG'] = np.where((Cstat_data['lct'] + Cstat_data['dltt']) >  Cstat_data['at'] , 1, 0)\n",
        "Cstat_data['NITA'] =  Cstat_data['ni']/ Cstat_data['at_plus']\n",
        "Cstat_data['FUTL'] = np.where(Cstat_data['Total_liabilities'] > 0.001 , Cstat_data['oancf']/ Cstat_data['Total_liabilities'], np.nan)\n",
        "Cstat_data['lag_ni'] = Cstat_data.groupby('gvkey')['ni'].shift()\n",
        "\n",
        "Cstat_data['INTWO'] = np.where((Cstat_data['ni'] < 0) & (Cstat_data['lag_ni'] < 0), 1, 0)\n",
        "Cstat_data['CHIN'] = (Cstat_data['ni'] - Cstat_data['lag_ni']) / (np.abs(Cstat_data['ni']) + np.abs(Cstat_data['lag_ni']))\n",
        "\n",
        "Cstat_data['b2m'] = (Cstat_data['at'] - Cstat_data['Total_liabilities']) / Cstat_data['market_cap'] #bool value of equity = (Cstat_data['at'] - Cstat_data['Total_liabilities'])\n",
        "\n",
        "\n",
        "# Small constant to avoid division by zero\n",
        "small_value = 1e-6\n",
        "\n",
        "## add 2 new metrics \n",
        "Cstat_data['DER'] = (Cstat_data['dlc'] + Cstat_data['dltt']) / (Cstat_data['at'] - Cstat_data['lct'] + small_value)\n",
        "Cstat_data['ROA'] = Cstat_data['ni'] / (Cstat_data['at'] + small_value)\n"
      ]
    },
    {
      "cell_type": "markdown",
      "metadata": {},
      "source": [
        "### 1.2 Comparisons for classes 0 and 1 for those 2 metrics \n",
        "- **DER (Debt to Equity Ratio)**:\n",
        "  - For class \"0\" (non-bankrupt): The DER is approximately 0.706411.\n",
        "  - For class \"1\" (bankrupt): The DER is lower, approximately 0.601867.\n",
        "\n",
        "- **ROA (Return on Assets)**:\n",
        "  - For class \"0\" (non-bankrupt): The ROA is approximately 0.026837.\n",
        "  - For class \"1\" (bankrupt): The ROA is negative, approximately -0.230754.\n",
        "\n",
        "**Interpretation**:\n",
        "\n",
        "- **DER**: Non-bankrupt companies have a higher mean DER compared to bankrupt companies, which is counterintuitive based on traditional expectations. Typically, a higher DER suggests a company may be at greater risk due to higher debt levels. However, this might also indicate that non-bankrupt companies are more leveraged but still maintaining their debt obligations effectively. For bankrupt companies, a lower DER could suggest that despite having less debt relative to equity, these companies are struggling financially, which may be due to other factors affecting their ability to service their debt.\n",
        "\n",
        "- **ROA**: The positive mean ROA for non-bankrupt companies indicates that they are generating earnings from their assets, which signifies operational efficiency and financial health. On the other hand, the negative ROA for bankrupt companies suggests they are unable to generate sufficient profit from their assets, reflecting poor performance and potential mismanagement, which could be leading to financial distress and increased likelihood of bankruptcy. This aligns with the expectation that a higher ROA is associated with a lower risk of bankruptcy.\n",
        "\n"
      ]
    },
    {
      "cell_type": "code",
      "execution_count": 35,
      "metadata": {
        "colab": {
          "base_uri": "https://localhost:8080/"
        },
        "id": "YaH7drgYiBWG",
        "outputId": "45250119-eb55-44b7-ddaa-a3b786149ba4"
      },
      "outputs": [
        {
          "data": {
            "text/html": [
              "<div>\n",
              "<style scoped>\n",
              "    .dataframe tbody tr th:only-of-type {\n",
              "        vertical-align: middle;\n",
              "    }\n",
              "\n",
              "    .dataframe tbody tr th {\n",
              "        vertical-align: top;\n",
              "    }\n",
              "\n",
              "    .dataframe thead th {\n",
              "        text-align: right;\n",
              "    }\n",
              "</style>\n",
              "<table border=\"1\" class=\"dataframe\">\n",
              "  <thead>\n",
              "    <tr style=\"text-align: right;\">\n",
              "      <th></th>\n",
              "      <th>year</th>\n",
              "      <th>log_asset_size</th>\n",
              "      <th>TLTA</th>\n",
              "      <th>WCTA</th>\n",
              "      <th>CLCA</th>\n",
              "      <th>OENEG</th>\n",
              "      <th>NITA</th>\n",
              "      <th>FUTL</th>\n",
              "      <th>INTWO</th>\n",
              "      <th>CHIN</th>\n",
              "      <th>b2m</th>\n",
              "      <th>DER</th>\n",
              "      <th>ROA</th>\n",
              "    </tr>\n",
              "    <tr>\n",
              "      <th>Outcome</th>\n",
              "      <th></th>\n",
              "      <th></th>\n",
              "      <th></th>\n",
              "      <th></th>\n",
              "      <th></th>\n",
              "      <th></th>\n",
              "      <th></th>\n",
              "      <th></th>\n",
              "      <th></th>\n",
              "      <th></th>\n",
              "      <th></th>\n",
              "      <th></th>\n",
              "      <th></th>\n",
              "    </tr>\n",
              "  </thead>\n",
              "  <tbody>\n",
              "    <tr>\n",
              "      <th>0</th>\n",
              "      <td>2001.947293</td>\n",
              "      <td>6.515629</td>\n",
              "      <td>0.485604</td>\n",
              "      <td>0.156648</td>\n",
              "      <td>2.527114</td>\n",
              "      <td>0.022699</td>\n",
              "      <td>0.026837</td>\n",
              "      <td>0.403638</td>\n",
              "      <td>0.121052</td>\n",
              "      <td>0.017204</td>\n",
              "      <td>4.572821</td>\n",
              "      <td>0.706411</td>\n",
              "      <td>0.026837</td>\n",
              "    </tr>\n",
              "    <tr>\n",
              "      <th>1</th>\n",
              "      <td>2003.052113</td>\n",
              "      <td>5.975319</td>\n",
              "      <td>0.891749</td>\n",
              "      <td>-0.169327</td>\n",
              "      <td>4.621544</td>\n",
              "      <td>0.273239</td>\n",
              "      <td>-0.230754</td>\n",
              "      <td>-0.012792</td>\n",
              "      <td>0.622535</td>\n",
              "      <td>-0.334972</td>\n",
              "      <td>-2.624247</td>\n",
              "      <td>0.601867</td>\n",
              "      <td>-0.230754</td>\n",
              "    </tr>\n",
              "  </tbody>\n",
              "</table>\n",
              "</div>"
            ],
            "text/plain": [
              "                year  log_asset_size      TLTA      WCTA      CLCA     OENEG  \\\n",
              "Outcome                                                                        \n",
              "0        2001.947293        6.515629  0.485604  0.156648  2.527114  0.022699   \n",
              "1        2003.052113        5.975319  0.891749 -0.169327  4.621544  0.273239   \n",
              "\n",
              "             NITA      FUTL     INTWO      CHIN       b2m       DER       ROA  \n",
              "Outcome                                                                        \n",
              "0        0.026837  0.403638  0.121052  0.017204  4.572821  0.706411  0.026837  \n",
              "1       -0.230754 -0.012792  0.622535 -0.334972 -2.624247  0.601867 -0.230754  "
            ]
          },
          "execution_count": 35,
          "metadata": {},
          "output_type": "execute_result"
        }
      ],
      "source": [
        "#Merge with Bankruptcy data\n",
        "cstat_bankruptcy = Cstat_data.merge(bankruptcy_data, how = 'left', left_on =  ['Date', 'gvkey'], right_on = ['Date', 'GvkeyBefore'])\n",
        "Y = cstat_bankruptcy.loc[cstat_bankruptcy.inf_adj_at > 100].copy()\n",
        "\n",
        "Y['year'] = Y.Date.dt.year\n",
        "Y['Outcome'] = np.where(Y.Chapter.isna(), 0, 1)                                # 1 = bankrupt, if Y.Chapter notna then the firm did not file for bankruptcy in the year after the 10K date\n",
        "\n",
        "features = ['year', 'log_asset_size', 'TLTA', 'WCTA', 'CLCA', 'OENEG', 'NITA',\n",
        "       'FUTL',  'INTWO', 'CHIN', 'b2m','DER','ROA']\n",
        "len(Y)\n",
        "\n",
        "#Compare features across categories\n",
        "Features_by_category = Y.groupby('Outcome')[features].mean()\n",
        "Features_by_category"
      ]
    },
    {
      "cell_type": "markdown",
      "metadata": {},
      "source": [
        "### 1.3 fit the logit model with 3 feaures and 2 new features and calculate AUC\n",
        "\n",
        "1. **Justification for Feature Choice**: By choosing `'TLTA'`, `'WCTA'`, and `'FUTL'` based on the logistic regression coefficients, leveraging the model's learned weights, which reflect the influence of each feature after accounting for the presence of other features. These features presumably provided the most significant contribution to the model's ability to predict bankruptcy in the context of the other features included in the analysis.\n",
        "\n",
        "2. **AUC - Area Under the Curve**: The AUC refers to the Area Under the Receiver Operating Characteristic (ROC) Curve. An AUC of `0.9284` indicates a very good predictive ability. The ROC curve plots the true positive rate (recall) against the false positive rate at various threshold settings. The AUC value ranges from 0 to 1, where 0.5 represents a model with no discriminative ability (equivalent to random guessing), and 1 represents a perfect model. An AUC of `0.9284` suggests that the model has a high likelihood of correctly distinguishing between the bankrupt and non-bankrupt cases.\n"
      ]
    },
    {
      "cell_type": "markdown",
      "metadata": {
        "id": "jMdhfQD8sX0J"
      },
      "source": [
        "Winsorize extreme values and create test and training data. Train with pre-2006 data and test with post-2006 data"
      ]
    },
    {
      "cell_type": "code",
      "execution_count": 36,
      "metadata": {
        "id": "xRRfJXY7ss-F"
      },
      "outputs": [
        {
          "data": {
            "image/png": "[encoded data removed]",
            "text/plain": [
              "<Figure size 640x480 with 1 Axes>"
            ]
          },
          "metadata": {},
          "output_type": "display_data"
        }
      ],
      "source": [
        "Y.dropna(subset = features, inplace = True)\n",
        "Y = Y[(Y.year > 1987) & (Y.year < 2022) ]\n",
        "len(Y)\n",
        "\n",
        "X = Y[features]\n",
        "y = Y['Outcome']\n",
        "from scipy.stats import mstats                                                   #mstats is useful for winsorization\n",
        "def winsorize_series(group):\n",
        "    return mstats.winsorize(group, limits=[.05, .05])\n",
        "features_win = ['DER', 'ROA', 'TLTA', 'FUTL', 'b2m', 'year']\n",
        "                \n",
        "#Training data\n",
        "X_pre2006 = Y[features_win][Y.year<2006].groupby('year')                         #Grouped by 'year' becuase financial ratio distributions vary across years\n",
        "X_train = X_pre2006.transform(winsorize_series)\n",
        "y_train = Y['Outcome'].loc[Y.year<2006]\n",
        "\n",
        "#Test data\n",
        "X_post2006 = Y[features_win][Y.year>=2006].groupby('year')\n",
        "X_test = X_post2006.transform(winsorize_series)\n",
        "y_test = Y['Outcome'].loc[Y.year >= 2006]\n",
        "\n",
        "# Use SK learn to fit logistic regression.\n",
        "logreg = LogisticRegression(penalty = 'l2', max_iter=200, random_state=16)    # 'penalty' allows you to run penalized regressions, usful when there are a large number of parameters to be estimated.\n",
        "# fit the model with training data\n",
        "logreg.fit(X_train, y_train)\n",
        "\n",
        "#%% Receiver Operating Characteristic (ROC) curve\n",
        "y_pred_proba = logreg.predict_proba(X_test)[::,1]                                #Probability of default for the test sample\n",
        "fpr, tpr, _ = metrics.roc_curve(y_test,  y_pred_proba)\n",
        "auc = metrics.roc_auc_score(y_test, y_pred_proba)\n",
        "plt.plot(fpr,tpr,label=\"auc=\" + str(auc))                                 #plot false positive rate vs true positive rate for different  thresholds for classification\n",
        "\n",
        "plt.legend(loc=4)\n",
        "plt.show()"
      ]
    },
    {
      "cell_type": "markdown",
      "metadata": {
        "id": "0H3HqYKqzQjo"
      },
      "source": [
        "ROC"
      ]
    },
    {
      "cell_type": "markdown",
      "metadata": {},
      "source": [
        "### 1.4 comparison the metrics preformance between 0.1 and 0.5 threshold\n",
        "- **Accuracy**: The accuracy increases as the threshold moves from 0.01 to 0.05, indicating that the model correctly predicts more instances overall as the threshold for declaring bankruptcy is raised. However, in bankruptcy prediction models where class distribution is skewed, accuracy alone might be misleading as it can be inflated by the model's performance on the majority class.\n",
        "\n",
        "- **Recall**: At the lower threshold of 0.01, the recall is quite high, showing that the model is good at identifying most of the bankrupt cases, which is crucial for a bankruptcy prediction model. The recall decreases as the threshold increases, which suggests that while the model becomes more conservative at predicting bankruptcies, it starts to miss more actual bankrupt cases.\n",
        "\n",
        "- **Precision**: The precision is low at the 0.01 threshold and increases with the threshold, indicating that as the threshold increases, the model becomes more selective, reducing the number of false positives (i.e., non-bankrupt companies wrongly identified as bankrupt). However, the trade-off is that some bankrupt cases may be missed.\n",
        "\n",
        "### Justification for choosing a threshold:\n",
        "\n",
        "- If the cost of missing a bankruptcy is high, a lower threshold like 0.01 might be preferred despite the lower precision because it offers higher recall, meaning the model is more likely to identify potential bankruptcies at the expense of having more false positives.\n",
        "\n",
        "- A higher threshold, while improving precision and reducing the number of false positives, might be more suitable if the cost of false alarms is high and the model needs to be more certain before flagging a company as potentially bankrupt.\n",
        "\n",
        "- The best threshold strikes a balance, offering a recall that is sufficiently high to catch most bankruptcies without having an unmanageable number of false positives. This middle ground minimizes both the risk of missing bankruptcies and the cost of false alarms.\n",
        "\n",
        "In summary, the optimal threshold depends on the specific costs associated with false negatives and false positives in the context of bankruptcy prediction and should be determined in consultation with domain experts."
      ]
    },
    {
      "cell_type": "code",
      "execution_count": 37,
      "metadata": {
        "colab": {
          "base_uri": "https://localhost:8080/",
          "height": 645
        },
        "id": "NsZw3Eiz0oQ7",
        "outputId": "2fc07c5d-d30a-4700-cd3a-f866b0a889a0"
      },
      "outputs": [
        {
          "data": {
            "text/html": [
              "<div>\n",
              "<style scoped>\n",
              "    .dataframe tbody tr th:only-of-type {\n",
              "        vertical-align: middle;\n",
              "    }\n",
              "\n",
              "    .dataframe tbody tr th {\n",
              "        vertical-align: top;\n",
              "    }\n",
              "\n",
              "    .dataframe thead th {\n",
              "        text-align: right;\n",
              "    }\n",
              "</style>\n",
              "<table border=\"1\" class=\"dataframe\">\n",
              "  <thead>\n",
              "    <tr style=\"text-align: right;\">\n",
              "      <th></th>\n",
              "      <th>threshold</th>\n",
              "      <th>accuracy</th>\n",
              "      <th>recall</th>\n",
              "      <th>precision</th>\n",
              "    </tr>\n",
              "  </thead>\n",
              "  <tbody>\n",
              "    <tr>\n",
              "      <th>1</th>\n",
              "      <td>0.01</td>\n",
              "      <td>0.852015</td>\n",
              "      <td>0.839357</td>\n",
              "      <td>0.030413</td>\n",
              "    </tr>\n",
              "    <tr>\n",
              "      <th>2</th>\n",
              "      <td>0.02</td>\n",
              "      <td>0.921492</td>\n",
              "      <td>0.742972</td>\n",
              "      <td>0.050313</td>\n",
              "    </tr>\n",
              "    <tr>\n",
              "      <th>3</th>\n",
              "      <td>0.03</td>\n",
              "      <td>0.948935</td>\n",
              "      <td>0.654618</td>\n",
              "      <td>0.068201</td>\n",
              "    </tr>\n",
              "    <tr>\n",
              "      <th>4</th>\n",
              "      <td>0.04</td>\n",
              "      <td>0.963086</td>\n",
              "      <td>0.578313</td>\n",
              "      <td>0.084161</td>\n",
              "    </tr>\n",
              "    <tr>\n",
              "      <th>5</th>\n",
              "      <td>0.05</td>\n",
              "      <td>0.971255</td>\n",
              "      <td>0.506024</td>\n",
              "      <td>0.096552</td>\n",
              "    </tr>\n",
              "    <tr>\n",
              "      <th>6</th>\n",
              "      <td>0.06</td>\n",
              "      <td>0.976355</td>\n",
              "      <td>0.413655</td>\n",
              "      <td>0.100195</td>\n",
              "    </tr>\n",
              "    <tr>\n",
              "      <th>7</th>\n",
              "      <td>0.07</td>\n",
              "      <td>0.979402</td>\n",
              "      <td>0.353414</td>\n",
              "      <td>0.102326</td>\n",
              "    </tr>\n",
              "    <tr>\n",
              "      <th>8</th>\n",
              "      <td>0.08</td>\n",
              "      <td>0.982073</td>\n",
              "      <td>0.313253</td>\n",
              "      <td>0.108484</td>\n",
              "    </tr>\n",
              "    <tr>\n",
              "      <th>9</th>\n",
              "      <td>0.09</td>\n",
              "      <td>0.98395</td>\n",
              "      <td>0.277108</td>\n",
              "      <td>0.112013</td>\n",
              "    </tr>\n",
              "  </tbody>\n",
              "</table>\n",
              "</div>"
            ],
            "text/plain": [
              "  threshold  accuracy    recall precision\n",
              "1      0.01  0.852015  0.839357  0.030413\n",
              "2      0.02  0.921492  0.742972  0.050313\n",
              "3      0.03  0.948935  0.654618  0.068201\n",
              "4      0.04  0.963086  0.578313  0.084161\n",
              "5      0.05  0.971255  0.506024  0.096552\n",
              "6      0.06  0.976355  0.413655  0.100195\n",
              "7      0.07  0.979402  0.353414  0.102326\n",
              "8      0.08  0.982073  0.313253  0.108484\n",
              "9      0.09   0.98395  0.277108  0.112013"
            ]
          },
          "execution_count": 37,
          "metadata": {},
          "output_type": "execute_result"
        }
      ],
      "source": [
        "from sklearn.metrics import accuracy_score, recall_score, precision_score, confusion_matrix\n",
        "\n",
        "probs = logreg.predict_proba(X_test) \n",
        "y_prediction = pd.DataFrame(probs[::,1], index = y_test.index, columns = ['Predicted_probs'])\n",
        "Precision_recall = pd.DataFrame(index = range(1, 10),  columns= [\"threshold\",\"accuracy\", \"recall\", \"precision\"])\n",
        "for i in range (1,10):\n",
        "        prob_threshold = i/100\n",
        "        prediction = np.where(y_prediction > prob_threshold, 1, 0)\n",
        "        Precision_recall.at[i,'threshold'] = prob_threshold\n",
        "        Precision_recall.at[i,'accuracy'] = accuracy_score(y_test, prediction)\n",
        "        Precision_recall.at[i,'recall'] = recall_score(y_test, prediction)\n",
        "        Precision_recall.at[i,'precision'] = precision_score(y_test, prediction)\n",
        "\n",
        "Precision_recall"
      ]
    },
    {
      "cell_type": "markdown",
      "metadata": {},
      "source": [
        "## Task 2: Dow Jones Industrial Average Calculation\n",
        "---"
      ]
    },
    {
      "cell_type": "code",
      "execution_count": 40,
      "metadata": {},
      "outputs": [
        {
          "name": "stderr",
          "output_type": "stream",
          "text": [
            "[*********************100%%**********************]  30 of 30 completed\n"
          ]
        }
      ],
      "source": [
        "# Importing necessary libraries\n",
        "import numpy as np\n",
        "import pandas as pd\n",
        "import yfinance as yf\n",
        "import datetime\n",
        "from datetime import date\n",
        "from datetime import timedelta\n",
        "\n",
        "#read the data \n",
        "DowJonesStocks = pd.read_excel(r\"C:\\Users\\ctlan\\OneDrive\\desktop\\FIN\\dataset\\Dow.xlsx\") # reading excel file containing the constituent stocks in the Dow Index\n",
        "stocks_list = list(DowJonesStocks.Ticker) # passing the symbols to the stocks_list , this list will be input for yfinance data call\n",
        "d = datetime.timedelta(days = 10)                                               #get data for the last 10 days\n",
        "data = yf.download(stocks_list, start=date.today()- d, end=date.today()) ##getting prices data using yfinance library\n",
        "Price = data['Close'].iloc[-1] #extracting last available Close Price for each stock\n"
      ]
    },
    {
      "cell_type": "markdown",
      "metadata": {},
      "source": [
        "### 2.1 DJIA Calculation\n",
        "\n",
        "- **Last Day Close:** Calculation of the Dow Jones Industrial Average as of 2024-02-12 for which data is `0.1517`."
      ]
    },
    {
      "cell_type": "code",
      "execution_count": 42,
      "metadata": {},
      "outputs": [
        {
          "name": "stdout",
          "output_type": "stream",
          "text": [
            "The calculated DJIA divisor is: 0.15172751530709852\n"
          ]
        }
      ],
      "source": [
        "# The closing DJIA value you provided\n",
        "djia_close_value = 38797.38\n",
        "\n",
        "sum_of_prices = Price.sum()\n",
        "\n",
        "# Calculate the DJIA divisor\n",
        "djia_divisor = sum_of_prices / djia_close_value\n",
        "\n",
        "# Print the calculated divisor\n",
        "print(f\"The calculated DJIA divisor is: {djia_divisor}\")"
      ]
    },
    {
      "cell_type": "markdown",
      "metadata": {},
      "source": [
        "### 2.2 Divisor Adjustment Post-Index Reconstitution\n",
        "\n",
        "- **Divisor Calculation:** New divisor calculation after INTC is replaced with META in the Dow Jones Industrial Average index.\n",
        "- **Result:** The new divisor on 2024-02-12 is `0.1626` "
      ]
    },
    {
      "cell_type": "code",
      "execution_count": 44,
      "metadata": {},
      "outputs": [
        {
          "name": "stdout",
          "output_type": "stream",
          "text": [
            "The new DJIA divisor after reconstitution is: 0.16267851254507446\n"
          ]
        }
      ],
      "source": [
        "# Remove INTC price and add META price\n",
        "meta_closing_price = 468.90  \n",
        "sum_of_prices_before = Price.sum()   \n",
        "sum_of_prices_after = sum_of_prices_before + - Price['INTC'] +  meta_closing_price  # Remove INTC and Add META price\n",
        "\n",
        "\n",
        "# Calculate the new DJIA divisor\n",
        "new_djia_divisor = sum_of_prices_after / djia_close_value\n",
        "\n",
        "# Print the calculated new divisor\n",
        "print(f\"The new DJIA divisor after reconstitution is: {new_djia_divisor}\")"
      ]
    }
  ],
  "metadata": {
    "colab": {
      "machine_shape": "hm",
      "provenance": []
    },
    "kernelspec": {
      "display_name": "base",
      "language": "python",
      "name": "python3"
    },
    "language_info": {
      "codemirror_mode": {
        "name": "ipython",
        "version": 3
      },
      "file_extension": ".py",
      "mimetype": "text/x-python",
      "name": "python",
      "nbconvert_exporter": "python",
      "pygments_lexer": "ipython3",
      "version": "3.10.13"
    }
  },
  "nbformat": 4,
  "nbformat_minor": 0
}
